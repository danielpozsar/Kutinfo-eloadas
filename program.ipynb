{
 "cells": [
  {
   "cell_type": "code",
   "execution_count": null,
   "metadata": {},
   "outputs": [],
   "source": [
    "import cv2\n",
    "import numpy as np    #import"
   ]
  },
  {
   "cell_type": "code",
   "execution_count": null,
   "metadata": {},
   "outputs": [],
   "source": [
    "img = cv2.imread('panther.jpg', cv2.IMREAD_GRAYSCALE)\n",
    "img = cv2.resize(img, (800,615), interpolation = cv2.INTER_AREA)    #load image\n",
    "\n",
    "#cv2.imshow('original image', img)\n",
    "#cv2.waitKey(0)\n",
    "#cv2.destroyAllWindows()"
   ]
  },
  {
   "cell_type": "code",
   "execution_count": null,
   "metadata": {},
   "outputs": [],
   "source": [
    "noise = np.zeros(img.shape, np.int16)\n",
    "cv2.randn(noise, 0.0, 125.0)\n",
    "gauss = cv2.add(img, noise, dtype=cv2.CV_8UC1)    #normal distribution"
   ]
  },
  {
   "cell_type": "code",
   "execution_count": null,
   "metadata": {},
   "outputs": [],
   "source": [
    "#salt and pepper noise\n",
    "def addPointNoise(img, percentage, value):\n",
    "    noise = np.copy(img)\n",
    "    n = int(img.shape[0] * img.shape[1] * percentage)    #number of 'broken detector pixels'\n",
    "\n",
    "    for k in range(1, n):\n",
    "        i = np.random.randint(0, img.shape[1])\n",
    "        j = np.random.randint(0, img.shape[0])    #choosing pixel\n",
    "\n",
    "        if img.ndim == 2:\n",
    "            noise[j, i] = value\n",
    "\n",
    "        if img.ndim == 3:\n",
    "            noise[j, i] = [value, value, value]\n",
    "\n",
    "    return noise\n",
    "\n",
    "def addSaltAndPepperNoise(img, percentage1, percentage2):\n",
    "    n = addPointNoise(img, percentage1, 255)\n",
    "    n2 = addPointNoise(n, percentage2, 0)\n",
    "    return n2"
   ]
  },
  {
   "cell_type": "code",
   "execution_count": null,
   "metadata": {},
   "outputs": [],
   "source": [
    "#poisson noise\n",
    "def sp_noise(img, prob):\n",
    "    noise = np.random.poisson(prob, img.shape)\n",
    "    output = img + noise\n",
    "    output = 255 * (output - output.min()) / (output.max() - output.min())\n",
    "    output = np.array(output, dtype='u1')    #dtype important\n",
    "\n",
    "    return output"
   ]
  },
  {
   "cell_type": "code",
   "execution_count": null,
   "metadata": {},
   "outputs": [],
   "source": [
    "#shot, salt and pepper\n",
    "sandp = addSaltAndPepperNoise(img, 0.05, 0.05)\n",
    "\n",
    "shot = sp_noise(img, 1000)"
   ]
  },
  {
   "cell_type": "code",
   "execution_count": null,
   "metadata": {},
   "outputs": [],
   "source": [
    "cv2.imshow('original', img)\n",
    "cv2.imshow('poisson noise', shot)\n",
    "cv2.imshow('salt and pepper noise', sandp)    #print images\n",
    "cv2.imshow('gauss noise', gauss)\n",
    "\n",
    "cv2.waitKey(0)     #press '0' to close all\n",
    "cv2.destroyAllWindows()\n",
    "\n",
    "#cv2.imwrite('original.png',img)\n",
    "#cv2.imwrite('poisson.png',shot)\n",
    "#cv2.imwrite('salt_and_p.png',sandp)    #save\n",
    "#cv2.imwrite('gauss.png',gauss)"
   ]
  },
  {
   "cell_type": "code",
   "execution_count": null,
   "metadata": {},
   "outputs": [],
   "source": [
    "#what to do with the noise"
   ]
  },
  {
   "cell_type": "code",
   "execution_count": null,
   "metadata": {},
   "outputs": [],
   "source": [
    "#import cv2\n",
    "#import numpy as np    #import\n",
    "\n",
    "#img = cv2.imread('panther.jpg', cv2.IMREAD_GRAYSCALE)\n",
    "#img = cv2.resize(img, (800,615), interpolation = cv2.INTER_AREA)    #load image\n",
    "\n",
    "#noise = np.zeros(img.shape, np.int16)\n",
    "#cv2.randn(noise, 0.0, 100.0)\n",
    "#gauss = cv2.add(img, noise, dtype=cv2.CV_8UC1)    #normal distribution\n",
    "\n",
    "\n",
    "sharpen_kernel = np.array([0, -1, 0, -1, 5, -1, 0, -1, 0]).reshape((3, 3, 1))    #define matrix\n",
    "sharpen_kernel = sharpen_kernel\n",
    "sharpen_kernel_2 = sharpen_kernel*1.5\n",
    "\n",
    "convolution = cv2.blur(gauss, (9, 9))\n",
    "gaussconvolution = cv2.GaussianBlur(gauss, (9, 9), sigmaX=2.0, sigmaY=2.0)    #convolution\n",
    "sharpened_img = cv2.filter2D(gaussconvolution, -1, sharpen_kernel)\n",
    "sharpened_img_2 = cv2.filter2D(gaussconvolution, -1, sharpen_kernel_2)\n",
    "\n",
    "\n",
    "cv2.imshow('noisy image', gauss)\n",
    "#cv2.imshow('blur convolution', convolution)\n",
    "cv2.imshow('gauss convolution', gaussconvolution)    #print\n",
    "#cv2.imshow('gauss sharpened', sharpened_img)\n",
    "cv2.imshow('gauss sharpened_2', sharpened_img_2)\n",
    "\n",
    "cv2.waitKey(0)\n",
    "cv2.destroyAllWindows()\n",
    "\n",
    "#cv2.imwrite('noisy_image.png',gauss)\n",
    "#cv2.imwrite('gauss_sharpened.png',sharpened_img_2)    #save"
   ]
  },
  {
   "cell_type": "code",
   "execution_count": null,
   "metadata": {},
   "outputs": [],
   "source": [
    "#edge detection"
   ]
  },
  {
   "cell_type": "code",
   "execution_count": null,
   "metadata": {},
   "outputs": [],
   "source": [
    "MAGN_THRESH_PERCENT = 0.2\n",
    "\n",
    "#img = cv2.imread('panther.jpg', cv2.IMREAD_GRAYSCALE)    #load image\n",
    "#img = cv2.resize(img, (800,615), interpolation = cv2.INTER_AREA)\n",
    "\n",
    "def display_image(window, image):\n",
    "    disp = cv2.normalize(image, None, 0, 255, norm_type=cv2.NORM_MINMAX, dtype=cv2.CV_8UC1)    #normalize and show image\n",
    "    cv2.imshow(window, disp)\n",
    "\n",
    "\n",
    "ksize = 3 #convolution size\n",
    "\n",
    "Ix = cv2.Sobel(img, cv2.CV_32FC1, 1, 0, None, ksize)    #approximation of the partial derivate in the x direction\n",
    "display_image('Ix', Ix)\n",
    "\n",
    "Iy = cv2.Sobel(img, cv2.CV_32FC1, 0, 1, None, ksize)    #y direction\n",
    "display_image('Iy', Iy)\n",
    "\n",
    "Imagn = cv2.magnitude(Ix, Iy)\n",
    "display_image('Gradient magnitude', Imagn)    #detected edges\n",
    "\n",
    "magn_th = np.amax(Imagn) * MAGN_THRESH_PERCENT\n",
    "print('magn_th =', magn_th)\n",
    "_, ImagnTh = cv2.threshold(Imagn, magn_th, 1.0, cv2.THRESH_BINARY)    #treshold for true edges\n",
    "ImagnTh = np.array(ImagnTh, dtype='u1')    #dtype for image saving\n",
    "display_image('Thresholded gradient magnitude', ImagnTh)  \n",
    "\n",
    "cv2.waitKey(0)\n",
    "cv2.destroyAllWindows()\n",
    "\n",
    "#cv2.imwrite('Ix.png',Ix)\n",
    "#cv2.imwrite('Iy.png',Iy)\n",
    "#cv2.imwrite('magnitude.png',Imagn)"
   ]
  },
  {
   "cell_type": "code",
   "execution_count": null,
   "metadata": {},
   "outputs": [],
   "source": [
    "#img = cv2.imread('panther.jpg', cv2.IMREAD_GRAYSCALE)    #load image\n",
    "#img = cv2.resize(img, (800,615), interpolation = cv2.INTER_AREA)\n",
    "\n",
    "blurred = cv2.GaussianBlur(img, (7, 7), 1.5)\n",
    "LoG = cv2.Laplacian(blurred, cv2.CV_16S, ksize=3)    #one mask (LoG)\n",
    "\n",
    "minLoG = cv2.morphologyEx(LoG, cv2.MORPH_ERODE, np.ones((3, 3)))\n",
    "maxLoG = cv2.morphologyEx(LoG, cv2.MORPH_DILATE, np.ones((3, 3)))    #zero translation approximation\n",
    "\n",
    "zero_cross = np.logical_and(minLoG < -10, maxLoG > 10)    #true edge condition\n",
    "zero_cross_im = np.zeros(zero_cross.shape, np.uint8)\n",
    "zero_cross_im[zero_cross] = 255\n",
    "cv2.imshow('zero_cross_im', zero_cross_im)\n",
    "\n",
    "cv2.waitKey(0)\n",
    "cv2.destroyAllWindows()"
   ]
  }
 ],
 "metadata": {
  "language_info": {
   "codemirror_mode": {
    "name": "ipython",
    "version": 3
   },
   "file_extension": ".py",
   "mimetype": "text/x-python",
   "name": "python",
   "nbconvert_exporter": "python",
   "pygments_lexer": "ipython3",
   "version": "3.7.7-final"
  },
  "orig_nbformat": 2,
  "kernelspec": {
   "name": "python37764bitc7f8eb07c2b54b8db9e4e6e6911463a0",
   "display_name": "Python 3.7.7 64-bit"
  }
 },
 "nbformat": 4,
 "nbformat_minor": 2
}